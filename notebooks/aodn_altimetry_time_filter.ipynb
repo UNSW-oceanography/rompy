{
 "cells": [
  {
   "cell_type": "code",
   "execution_count": 1,
   "id": "5c15402f",
   "metadata": {},
   "outputs": [],
   "source": [
    "import urllib\n",
    "import geopandas as gpd"
   ]
  },
  {
   "cell_type": "code",
   "execution_count": 2,
   "id": "687e9474",
   "metadata": {},
   "outputs": [],
   "source": [
    "# input similar to aodn catalog\n",
    "geom= 'POLYGON ((115.0000000000000000 -33.0000000000000000, 115.0000000000000000 -31.5000000000000000, 115.8000030517578125 -31.5000000000000000, 115.8000030517578125 -33.0000000000000000, 115.0000000000000000 -33.0000000000000000))'\n",
    "time_min,time_max = '2021-02-03','2021-02-10'"
   ]
  },
  {
   "cell_type": "code",
   "execution_count": 3,
   "id": "430f9148",
   "metadata": {},
   "outputs": [
    {
     "name": "stderr",
     "output_type": "stream",
     "text": [
      "/home/rfonsecadasilva/anaconda3/envs/rompy-dev/lib/python3.7/site-packages/geopandas/geodataframe.py:577: RuntimeWarning: Sequential read of iterator was interrupted. Resetting iterator. This can negatively impact the performance.\n",
      "  for feature in features_lst:\n"
     ]
    },
    {
     "data": {
      "text/plain": [
       "Index(['gml_id', 'timeseries_id', 'platform_code', 'time_coverage_start',\n",
       "       'time_coverage_end', 'geospatial_lat_min', 'geospatial_lat_max',\n",
       "       'geospatial_lon_min', 'geospatial_lon_max', 'lon_cell', 'lat_cell',\n",
       "       'file_url', 'size', 'geometry'],\n",
       "      dtype='object')"
      ]
     },
     "execution_count": 3,
     "metadata": {},
     "output_type": "execute_result"
    }
   ],
   "source": [
    "# inspect altimetry data\n",
    "params={}\n",
    "params['REQUEST'] = 'GetFeature'\n",
    "params['SERVICE'] = 'WFS'\n",
    "params['VERSION'] = '1.0.0'\n",
    "params['typeName'] = 'srs_surface_waves_altimetry_map'\n",
    "params['CQL_FILTER'] = f\"INTERSECTS(geom, {geom})\"\n",
    "wfs_url = 'http://geoserver-portal.aodn.org.au/geoserver/ows'\n",
    "url = f'{wfs_url}?{urllib.parse.urlencode(params)}'\n",
    "df = gpd.read_file(url)\n",
    "df.columns # n"
   ]
  },
  {
   "cell_type": "markdown",
   "id": "e8e9348d",
   "metadata": {},
   "source": [
    "No 'TIME' field present --> time filter won't work; but time_coverage_start and time_coverage_end can be used as filters (see next cells)"
   ]
  },
  {
   "cell_type": "code",
   "execution_count": 4,
   "id": "eda3fbbe",
   "metadata": {},
   "outputs": [
    {
     "data": {
      "text/plain": [
       "Index(['gml_id', 'trajectory_id', 'url', 'size', 'platform_code',\n",
       "       'wavnum_type', 'time_coverage_start', 'time_coverage_end', 'geometry'],\n",
       "      dtype='object')"
      ]
     },
     "execution_count": 4,
     "metadata": {},
     "output_type": "execute_result"
    }
   ],
   "source": [
    "# inspect sar data\n",
    "params['typeName'] = 'srs_surface_waves_sar_fv00_trajectory_map'\n",
    "params['CQL_FILTER'] = f\"INTERSECTS(geom, {geom})\"\n",
    "url = f'{wfs_url}?{urllib.parse.urlencode(params)}'\n",
    "df = gpd.read_file(url)\n",
    "df.columns # no time"
   ]
  },
  {
   "cell_type": "markdown",
   "id": "02df563a",
   "metadata": {},
   "source": [
    "No 'TIME' field present for sar"
   ]
  },
  {
   "cell_type": "code",
   "execution_count": 5,
   "id": "1fa9a5c7",
   "metadata": {},
   "outputs": [
    {
     "data": {
      "text/plain": [
       "<bound method NDFrame.head of                                               gml_id  timeseries_id  \\\n",
       "0  srs_surface_waves_altimetry_map.fid-5f1bee80_1...        2810733   \n",
       "1  srs_surface_waves_altimetry_map.fid-5f1bee80_1...        2886209   \n",
       "2  srs_surface_waves_altimetry_map.fid-5f1bee80_1...        2784024   \n",
       "3  srs_surface_waves_altimetry_map.fid-5f1bee80_1...        2752089   \n",
       "4  srs_surface_waves_altimetry_map.fid-5f1bee80_1...        2833622   \n",
       "5  srs_surface_waves_altimetry_map.fid-5f1bee80_1...        2895810   \n",
       "6  srs_surface_waves_altimetry_map.fid-5f1bee80_1...        2852838   \n",
       "7  srs_surface_waves_altimetry_map.fid-5f1bee80_1...        2800227   \n",
       "\n",
       "  platform_code  time_coverage_start    time_coverage_end  geospatial_lat_min  \\\n",
       "0         SARAL  2013-03-17T22:47:05  2020-12-27T09:52:18          -32.999260   \n",
       "1   SENTINEL-3A  2016-03-09T14:41:41  2020-12-29T01:56:55          -32.999882   \n",
       "2       JASON-3  2016-02-17T08:53:25  2020-12-27T06:29:51          -31.990362   \n",
       "3     CRYOSAT-2  2010-08-01T16:41:16  2020-12-25T08:12:00          -32.999794   \n",
       "4         SARAL  2013-04-02T22:44:23  2020-12-27T09:52:01          -31.999069   \n",
       "5   SENTINEL-3B  2018-06-24T14:41:23  2020-12-15T14:40:13          -32.999134   \n",
       "6   SENTINEL-3A  2016-03-10T01:56:17  2020-12-29T01:56:38          -31.999937   \n",
       "7       JASON-3  2016-02-13T23:45:01  2020-12-23T21:21:17          -32.999954   \n",
       "\n",
       "   geospatial_lat_max  geospatial_lon_min  geospatial_lon_max    lon_cell  \\\n",
       "0          -32.000916          115.000443          115.743904  115.372173   \n",
       "1          -32.004139          115.000244          115.465446  115.232845   \n",
       "2          -31.259892          115.009949          115.420982  115.215466   \n",
       "3          -32.000610          115.000038          115.746780  115.373409   \n",
       "4          -31.000996          115.000641          115.741982  115.371311   \n",
       "5          -32.000034          115.000259          115.656807  115.328533   \n",
       "6          -31.523615          115.457893          115.830612  115.644253   \n",
       "7          -32.007816          115.000000          115.168343  115.084171   \n",
       "\n",
       "    lat_cell                                           file_url      size  \\\n",
       "0 -32.500088  IMOS/SRS/Surface-Waves/Wave-Wind-Altimetry-DM0...  182023.0   \n",
       "1 -32.502010  IMOS/SRS/Surface-Waves/Wave-Wind-Altimetry-DM0...  174324.0   \n",
       "2 -31.625127  IMOS/SRS/Surface-Waves/Wave-Wind-Altimetry-DM0...  206169.0   \n",
       "3 -32.500202  IMOS/SRS/Surface-Waves/Wave-Wind-Altimetry-DM0...  201951.0   \n",
       "4 -31.500032  IMOS/SRS/Surface-Waves/Wave-Wind-Altimetry-DM0...  169341.0   \n",
       "5 -32.499584  IMOS/SRS/Surface-Waves/Wave-Wind-Altimetry-DM0...  136244.0   \n",
       "6 -31.761776  IMOS/SRS/Surface-Waves/Wave-Wind-Altimetry-DM0...  131874.0   \n",
       "7 -32.503885  IMOS/SRS/Surface-Waves/Wave-Wind-Altimetry-DM0...  148302.0   \n",
       "\n",
       "                      geometry  \n",
       "0  POINT (115.37220 -32.50010)  \n",
       "1  POINT (115.23280 -32.50200)  \n",
       "2  POINT (115.21550 -31.62510)  \n",
       "3  POINT (115.37340 -32.50020)  \n",
       "4  POINT (115.37130 -31.50000)  \n",
       "5  POINT (115.32850 -32.49960)  \n",
       "6  POINT (115.64430 -31.76180)  \n",
       "7  POINT (115.08420 -32.50390)  >"
      ]
     },
     "execution_count": 5,
     "metadata": {},
     "output_type": "execute_result"
    }
   ],
   "source": [
    "# now applying time filter - note different dates, otherwise no data available\n",
    "time_min,time_max = '2020-02-03','2021-02-10'\n",
    "params['typeName'] = 'srs_surface_waves_altimetry_map'\n",
    "params['CQL_FILTER'] = f\"INTERSECTS(geom, {geom}) AND time_coverage_start <= '{time_max}' AND time_coverage_end >= '{time_min}'\"\n",
    "url = f'{wfs_url}?{urllib.parse.urlencode(params)}'\n",
    "df = gpd.read_file(url)\n",
    "df.head"
   ]
  },
  {
   "cell_type": "code",
   "execution_count": null,
   "id": "80cd3873",
   "metadata": {},
   "outputs": [],
   "source": []
  }
 ],
 "metadata": {
  "kernelspec": {
   "display_name": "Python 3",
   "language": "python",
   "name": "python3"
  },
  "language_info": {
   "codemirror_mode": {
    "name": "ipython",
    "version": 3
   },
   "file_extension": ".py",
   "mimetype": "text/x-python",
   "name": "python",
   "nbconvert_exporter": "python",
   "pygments_lexer": "ipython3",
   "version": "3.7.9"
  }
 },
 "nbformat": 4,
 "nbformat_minor": 5
}
