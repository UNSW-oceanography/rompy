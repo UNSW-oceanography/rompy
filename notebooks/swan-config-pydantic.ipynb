{
 "cells": [
  {
   "cell_type": "code",
   "execution_count": 1,
   "metadata": {},
   "outputs": [],
   "source": [
    "import yaml\n",
    "\n",
    "from rompy.swan.config import SwanConfigPydantic as SwanConfig"
   ]
  },
  {
   "cell_type": "code",
   "execution_count": 2,
   "metadata": {},
   "outputs": [
    {
     "name": "stdout",
     "output_type": "stream",
     "text": [
      "\u001b[0;31mInit signature:\u001b[0m\n",
      "\u001b[0mSwanConfig\u001b[0m\u001b[0;34m(\u001b[0m\u001b[0;34m\u001b[0m\n",
      "\u001b[0;34m\u001b[0m    \u001b[0;34m*\u001b[0m\u001b[0;34m,\u001b[0m\u001b[0;34m\u001b[0m\n",
      "\u001b[0;34m\u001b[0m    \u001b[0mcgrid\u001b[0m\u001b[0;34m:\u001b[0m \u001b[0mrompy\u001b[0m\u001b[0;34m.\u001b[0m\u001b[0mswan\u001b[0m\u001b[0;34m.\u001b[0m\u001b[0mcomponents\u001b[0m\u001b[0;34m.\u001b[0m\u001b[0mcgrid\u001b[0m\u001b[0;34m.\u001b[0m\u001b[0mREGULAR\u001b[0m \u001b[0;34m|\u001b[0m \u001b[0mrompy\u001b[0m\u001b[0;34m.\u001b[0m\u001b[0mswan\u001b[0m\u001b[0;34m.\u001b[0m\u001b[0mcomponents\u001b[0m\u001b[0;34m.\u001b[0m\u001b[0mcgrid\u001b[0m\u001b[0;34m.\u001b[0m\u001b[0mCURVILINEAR\u001b[0m \u001b[0;34m|\u001b[0m \u001b[0mrompy\u001b[0m\u001b[0;34m.\u001b[0m\u001b[0mswan\u001b[0m\u001b[0;34m.\u001b[0m\u001b[0mcomponents\u001b[0m\u001b[0;34m.\u001b[0m\u001b[0mcgrid\u001b[0m\u001b[0;34m.\u001b[0m\u001b[0mUNSTRUCTURED\u001b[0m\u001b[0;34m,\u001b[0m\u001b[0;34m\u001b[0m\n",
      "\u001b[0;34m\u001b[0m    \u001b[0minpgrid\u001b[0m\u001b[0;34m:\u001b[0m \u001b[0mlist\u001b[0m\u001b[0;34m[\u001b[0m\u001b[0mrompy\u001b[0m\u001b[0;34m.\u001b[0m\u001b[0mswan\u001b[0m\u001b[0;34m.\u001b[0m\u001b[0mcomponents\u001b[0m\u001b[0;34m.\u001b[0m\u001b[0minpgrid\u001b[0m\u001b[0;34m.\u001b[0m\u001b[0mREGULAR\u001b[0m \u001b[0;34m|\u001b[0m \u001b[0mrompy\u001b[0m\u001b[0;34m.\u001b[0m\u001b[0mswan\u001b[0m\u001b[0;34m.\u001b[0m\u001b[0mcomponents\u001b[0m\u001b[0;34m.\u001b[0m\u001b[0minpgrid\u001b[0m\u001b[0;34m.\u001b[0m\u001b[0mCURVILINEAR\u001b[0m \u001b[0;34m|\u001b[0m \u001b[0mrompy\u001b[0m\u001b[0;34m.\u001b[0m\u001b[0mswan\u001b[0m\u001b[0;34m.\u001b[0m\u001b[0mcomponents\u001b[0m\u001b[0;34m.\u001b[0m\u001b[0minpgrid\u001b[0m\u001b[0;34m.\u001b[0m\u001b[0mUNSTRUCTURED\u001b[0m\u001b[0;34m]\u001b[0m\u001b[0;34m,\u001b[0m\u001b[0;34m\u001b[0m\n",
      "\u001b[0;34m\u001b[0m\u001b[0;34m)\u001b[0m \u001b[0;34m->\u001b[0m \u001b[0;32mNone\u001b[0m\u001b[0;34m\u001b[0m\u001b[0;34m\u001b[0m\u001b[0m\n",
      "\u001b[0;31mDocstring:\u001b[0m     \n",
      "SWAN config class.\n",
      "\n",
      "Parameters\n",
      "----------\n",
      "cgrid : CGRID\n",
      "    The computational grid SWAN component.\n",
      "inpgrid: INPGRID\n",
      "    The input grid SWAN component.\n",
      "\u001b[0;31mInit docstring:\u001b[0m\n",
      "Create a new model by parsing and validating input data from keyword arguments.\n",
      "\n",
      "Raises ValidationError if the input data cannot be parsed to form a valid model.\n",
      "\u001b[0;31mFile:\u001b[0m           /source/csiro/rompy/rompy/swan/config.py\n",
      "\u001b[0;31mType:\u001b[0m           ModelMetaclass\n",
      "\u001b[0;31mSubclasses:\u001b[0m     \n"
     ]
    }
   ],
   "source": [
    "SwanConfig?"
   ]
  },
  {
   "attachments": {},
   "cell_type": "markdown",
   "metadata": {},
   "source": [
    "## Working off configs"
   ]
  },
  {
   "cell_type": "code",
   "execution_count": 3,
   "metadata": {},
   "outputs": [
    {
     "data": {
      "text/plain": [
       "{'cgrid': {'model_type': 'regular',\n",
       "  'mdc': 36,\n",
       "  'flow': 0.04,\n",
       "  'fhigh': 0.4,\n",
       "  'xlenc': 100.0,\n",
       "  'ylenc': 100.0,\n",
       "  'mxc': 10,\n",
       "  'myc': 10},\n",
       " 'inpgrid': [{'model_type': 'regular',\n",
       "   'grid_type': 'bottom',\n",
       "   'xpinp': 0.0,\n",
       "   'ypinp': 0.0,\n",
       "   'alpinp': 0.0,\n",
       "   'mxinp': 10,\n",
       "   'myinp': 10,\n",
       "   'dxinp': 0.1,\n",
       "   'dyinp': 0.1,\n",
       "   'excval': -999.0,\n",
       "   'readinp': {'fname1': 'bottom.txt', 'idla': 3}},\n",
       "  {'model_type': 'regular',\n",
       "   'grid_type': 'wind',\n",
       "   'xpinp': 0.0,\n",
       "   'ypinp': 0.0,\n",
       "   'alpinp': 0.0,\n",
       "   'mxinp': 10,\n",
       "   'myinp': 10,\n",
       "   'dxinp': 0.1,\n",
       "   'dyinp': 0.1,\n",
       "   'excval': -999.0,\n",
       "   'nonstationary': {'tbeg': '2023-01-01T00:00:00',\n",
       "    'delt': 'PT30M',\n",
       "    'tend': '2023-02-01T00:00:00',\n",
       "    'deltfmt': 'hr'},\n",
       "   'readinp': {'fname1': 'wind.txt', 'idla': 3}}],\n",
       " 'cgrid_curvilinear': {'model_type': 'curvilinear',\n",
       "  'mdc': 36,\n",
       "  'flow': 0.04,\n",
       "  'fhigh': 0.4,\n",
       "  'mxc': 10,\n",
       "  'myc': 10,\n",
       "  'readcoord': {'fname': 'grid_coord.txt'}},\n",
       " 'inpgrid_curvilinear': [{'model_type': 'curvilinear',\n",
       "   'grid_type': 'bottom',\n",
       "   'mxinp': 10,\n",
       "   'myinp': 10,\n",
       "   'excval': -999.0,\n",
       "   'nonstationary': {'tbeg': '2023-01-01T00:00:00',\n",
       "    'delt': 'PT30M',\n",
       "    'tend': '2023-02-01T00:00:00',\n",
       "    'deltfmt': 'hr'},\n",
       "   'readinp': {'fname1': 'bottom.txt', 'idla': 3}}]}"
      ]
     },
     "execution_count": 3,
     "metadata": {},
     "output_type": "execute_result"
    }
   ],
   "source": [
    "with open(\"config.yml\") as stream:\n",
    "    config = yaml.load(stream, Loader=yaml.Loader)\n",
    "config"
   ]
  },
  {
   "attachments": {},
   "cell_type": "markdown",
   "metadata": {},
   "source": [
    "### Regular inpgrid example"
   ]
  },
  {
   "cell_type": "code",
   "execution_count": 4,
   "metadata": {},
   "outputs": [],
   "source": [
    "model = SwanConfig(cgrid=config[\"cgrid\"], inpgrid=config[\"inpgrid\"])"
   ]
  },
  {
   "cell_type": "code",
   "execution_count": 5,
   "metadata": {},
   "outputs": [
    {
     "name": "stdout",
     "output_type": "stream",
     "text": [
      "\n",
      "!-----------------------------------------------------------CGRID REGULAR-----------------------------------------------------------\n",
      "CGRID REGULAR xpc=0.0 ypc=0.0 alpc=0.0 xlenc=100.0 ylenc=100.0 mxc=10 myc=10 CIRCLE mdc=36 flow=0.04 fhigh=0.4\n",
      "\n",
      "\n",
      "!----------------------------------------------------------INPGRID REGULAR----------------------------------------------------------\n",
      "INPGRID BOTTOM REGULAR xpinp=0.0 ypinp=0.0 alpinp=0.0 mxinp=10 myinp=10 dxinp=0.1 dyinp=0.1 EXCEPTION excval=-999.0\n",
      "READINP BOTTOM fac=1.0 fname1='bottom.txt' idla=3 nhedf=0 nhedt=0 nhedvec=0 FREE\n",
      "\n",
      "\n",
      "!----------------------------------------------------------INPGRID REGULAR----------------------------------------------------------\n",
      "INPGRID WIND REGULAR xpinp=0.0 ypinp=0.0 alpinp=0.0 mxinp=10 myinp=10 dxinp=0.1 dyinp=0.1 EXCEPTION excval=-999.0 NONSTATIONARY tbeginp=20230101.000000 deltinp=0.5 HR tendinp=20230201.000000\n",
      "READINP WIND fac=1.0 fname1='wind.txt' idla=3 nhedf=0 nhedt=0 nhedvec=0 FREE\n",
      "\n"
     ]
    }
   ],
   "source": [
    "print(model.cgrid.render())\n",
    "for inpgrid in model.inpgrid:\n",
    "    print(inpgrid.render())"
   ]
  },
  {
   "attachments": {},
   "cell_type": "markdown",
   "metadata": {},
   "source": [
    "### Curvilinear impgrid example"
   ]
  },
  {
   "cell_type": "code",
   "execution_count": 6,
   "metadata": {},
   "outputs": [],
   "source": [
    "model = SwanConfig(cgrid=config[\"cgrid_curvilinear\"], inpgrid=config[\"inpgrid_curvilinear\"])"
   ]
  },
  {
   "cell_type": "code",
   "execution_count": 7,
   "metadata": {},
   "outputs": [
    {
     "name": "stdout",
     "output_type": "stream",
     "text": [
      "\n",
      "!---------------------------------------------------------CGRID CURVILINEAR---------------------------------------------------------\n",
      "CGRID CURVILINEAR mxc=10 myc=10 CIRCLE mdc=36 flow=0.04 fhigh=0.4\n",
      "READGRID COORDINATES fac=1.0 fname='grid_coord.txt' idla=1 nhedf=0 nhedvec=0 FREE\n",
      "\n",
      "\n",
      "!--------------------------------------------------------INPGRID CURVILINEAR--------------------------------------------------------\n",
      "INPGRID BOTTOM CURVILINEAR stagrx=0.0 stagry=0.0 mxinp=10 myinp=10  EXCEPTION excval=-999.0 NONSTATIONARY tbeginp=20230101.000000 deltinp=0.5 HR tendinp=20230201.000000\n",
      "\n"
     ]
    }
   ],
   "source": [
    "print(model.cgrid.render())\n",
    "for inpgrid in model.inpgrid:\n",
    "    print(inpgrid.render())"
   ]
  },
  {
   "attachments": {},
   "cell_type": "markdown",
   "metadata": {},
   "source": [
    "## Working with objects"
   ]
  },
  {
   "cell_type": "code",
   "execution_count": 8,
   "metadata": {},
   "outputs": [],
   "source": [
    "from rompy.swan.components.cgrid import REGULAR as CGRIDREGULAR\n",
    "from rompy.swan.components.inpgrid import REGULAR as INPGRIDREGULAR\n",
    "from rompy.swan.components.base import NONSTATIONARY, READINP"
   ]
  },
  {
   "cell_type": "code",
   "execution_count": 10,
   "metadata": {},
   "outputs": [],
   "source": [
    "computational_grid = CGRIDREGULAR(\n",
    "    mdc=36,\n",
    "    flow=0.04,\n",
    "    fhigh=0.4,\n",
    "    xlenc=100.0,\n",
    "    ylenc=100.0,\n",
    "    mxc=10,\n",
    "    myc=10,\n",
    ")\n",
    "\n",
    "bottom_grid = INPGRIDREGULAR(\n",
    "    grid_type=\"bottom\",\n",
    "    xpinp=0.0,\n",
    "    ypinp=0.0,\n",
    "    alpinp=0.0,\n",
    "    mxinp=10,\n",
    "    myinp=10,\n",
    "    dxinp=0.1,\n",
    "    dyinp=0.1,\n",
    "    excval=-999.0,\n",
    "    readinp=READINP(\n",
    "        fname1=\"bottom.txt\",\n",
    "        idla=3,\n",
    "    ),\n",
    ")\n",
    "\n",
    "wind_grid = INPGRIDREGULAR(\n",
    "    grid_type=\"wind\",\n",
    "    xpinp=0.0,\n",
    "    ypinp=0.0,\n",
    "    alpinp=0.0,\n",
    "    mxinp=10,\n",
    "    myinp=10,\n",
    "    dxinp=0.1,\n",
    "    dyinp=0.1,\n",
    "    excval=-999.0,\n",
    "    nonstationary=NONSTATIONARY(\n",
    "        tbeg=\"2023-01-01T00:00:00\",\n",
    "        delt=\"PT30M\",\n",
    "        tend=\"2023-02-01T00:00:00\",\n",
    "        deltfmt=\"hr\",\n",
    "    ),\n",
    "    readinp=READINP(\n",
    "        fname1=\"wind.txt\",\n",
    "        idla=3,\n",
    "    ),\n",
    ")\n",
    "\n",
    "model = SwanConfig(\n",
    "    cgrid=computational_grid,\n",
    "    inpgrid=[bottom_grid, wind_grid]\n",
    ")"
   ]
  },
  {
   "cell_type": "code",
   "execution_count": 11,
   "metadata": {},
   "outputs": [
    {
     "name": "stdout",
     "output_type": "stream",
     "text": [
      "\n",
      "!-----------------------------------------------------------CGRID REGULAR-----------------------------------------------------------\n",
      "CGRID REGULAR xpc=0.0 ypc=0.0 alpc=0.0 xlenc=100.0 ylenc=100.0 mxc=10 myc=10 CIRCLE mdc=36 flow=0.04 fhigh=0.4\n",
      "\n",
      "\n",
      "!----------------------------------------------------------INPGRID REGULAR----------------------------------------------------------\n",
      "INPGRID BOTTOM REGULAR xpinp=0.0 ypinp=0.0 alpinp=0.0 mxinp=10 myinp=10 dxinp=0.1 dyinp=0.1 EXCEPTION excval=-999.0\n",
      "READINP BOTTOM fac=1.0 fname1='bottom.txt' idla=3 nhedf=0 nhedt=0 nhedvec=0 FREE\n",
      "\n",
      "\n",
      "!----------------------------------------------------------INPGRID REGULAR----------------------------------------------------------\n",
      "INPGRID WIND REGULAR xpinp=0.0 ypinp=0.0 alpinp=0.0 mxinp=10 myinp=10 dxinp=0.1 dyinp=0.1 EXCEPTION excval=-999.0 NONSTATIONARY tbeginp=20230101.000000 deltinp=0.5 HR tendinp=20230201.000000\n",
      "READINP WIND fac=1.0 fname1='wind.txt' idla=3 nhedf=0 nhedt=0 nhedvec=0 FREE\n",
      "\n"
     ]
    }
   ],
   "source": [
    "print(model.cgrid.render())\n",
    "for inpgrid in model.inpgrid:\n",
    "    print(inpgrid.render())"
   ]
  }
 ],
 "metadata": {
  "kernelspec": {
   "display_name": "rompy",
   "language": "python",
   "name": "python3"
  },
  "language_info": {
   "codemirror_mode": {
    "name": "ipython",
    "version": 3
   },
   "file_extension": ".py",
   "mimetype": "text/x-python",
   "name": "python",
   "nbconvert_exporter": "python",
   "pygments_lexer": "ipython3",
   "version": "3.10.6"
  }
 },
 "nbformat": 4,
 "nbformat_minor": 4
}
